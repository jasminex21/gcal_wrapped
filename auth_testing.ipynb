{
 "cells": [
  {
   "cell_type": "markdown",
   "id": "f193fc96-556a-45cd-9f1d-79a7de3d5093",
   "metadata": {},
   "source": [
    "## Testing Google Calendary Auth. via GCSA \n",
    "#### [Docs](https://google-calendar-simple-api.readthedocs.io/en/latest/index.html)"
   ]
  },
  {
   "cell_type": "code",
   "execution_count": 1,
   "id": "9154ae44-2989-4e64-b822-0d1b4382b592",
   "metadata": {},
   "outputs": [],
   "source": [
    "from gcsa.google_calendar import GoogleCalendar"
   ]
  },
  {
   "cell_type": "code",
   "execution_count": 2,
   "id": "50aa0eb2-6f82-4b3c-92ab-76f4fd0cdd4c",
   "metadata": {},
   "outputs": [
    {
     "name": "stdout",
     "output_type": "stream",
     "text": [
      "Please visit this URL to authorize this application: https://accounts.google.com/o/oauth2/auth?response_type=code&client_id=671988344685-olqmrujlvpls7hetofmdiokj1lvrolr9.apps.googleusercontent.com&redirect_uri=http%3A%2F%2Flocalhost%3A8080%2F&scope=https%3A%2F%2Fwww.googleapis.com%2Fauth%2Fcalendar&state=puINpvoeuWzz5pDnabV6rMMcxYV59q&access_type=offline\n"
     ]
    },
    {
     "data": {
      "text/plain": [
       "<gcsa.google_calendar.GoogleCalendar at 0x782fac6077d0>"
      ]
     },
     "execution_count": 2,
     "metadata": {},
     "output_type": "execute_result"
    }
   ],
   "source": [
    "calendar = GoogleCalendar('jasminexu@utexas.edu')\n",
    "calendar"
   ]
  },
  {
   "cell_type": "code",
   "execution_count": 4,
   "id": "d346ad3a-c923-4523-95a7-582a6fae4197",
   "metadata": {},
   "outputs": [
    {
     "name": "stdout",
     "output_type": "stream",
     "text": [
      "2024-04-29 15:05:00-05:00 - AI Consulting/Aimlabs Weekly Demo - Placeholder\n",
      "None - None\n",
      "2025-02-16 17:30:00-06:00 - Catch Your Breath Concert\n",
      "2025-04-26 19:30:00-05:00 - Linkin Park Concert (From Zero World Tour)\n",
      "2024-12-13 - Winter Break!\n",
      "2024-12-24 - Gym closed\n",
      "2024-12-25 - Gym closed\n",
      "2024-10-24 14:30:00-05:00 - Intergroup project\n",
      "None - None\n",
      "None - None\n",
      "2024-12-31 - Gym closed\n",
      "2025-01-01 - Gym closed\n",
      "2024-12-24 18:00:00-06:00 - Family Christmas Gathering\n"
     ]
    }
   ],
   "source": [
    "for event in calendar:\n",
    "    print(event)"
   ]
  },
  {
   "cell_type": "code",
   "execution_count": 5,
   "id": "97a710f4-f1c9-40f3-9fbf-942afb6f7754",
   "metadata": {},
   "outputs": [
    {
     "name": "stdout",
     "output_type": "stream",
     "text": [
      "None - (jasminexu@utexas.edu)\n",
      "None - (Holidays in United States)\n",
      "None - (Classes)\n",
      "None - (Holidays in China)\n",
      "iCloud - (jasminexu7003@icloud.com)\n",
      "None - (Blocks)\n",
      "Celtics - (Boston Celtics 2023-24 Schedule)\n",
      "Texas MBB - (Men's Basketball - texassports.com)\n",
      "Texas Football - (Football - texassports.com)\n",
      "None - (School)\n",
      "Texas Volleyball - (Volleyball - texassports.com)\n",
      "None - (Birthdays)\n",
      "None - (Premier League)\n",
      "None - (Spurs games)\n",
      "None - (Footy/Games)\n"
     ]
    }
   ],
   "source": [
    "for cal in calendar.get_calendar_list():\n",
    "    print(cal)"
   ]
  }
 ],
 "metadata": {
  "kernelspec": {
   "display_name": "Python 3 (ipykernel)",
   "language": "python",
   "name": "python3"
  },
  "language_info": {
   "codemirror_mode": {
    "name": "ipython",
    "version": 3
   },
   "file_extension": ".py",
   "mimetype": "text/x-python",
   "name": "python",
   "nbconvert_exporter": "python",
   "pygments_lexer": "ipython3",
   "version": "3.11.5"
  }
 },
 "nbformat": 4,
 "nbformat_minor": 5
}
